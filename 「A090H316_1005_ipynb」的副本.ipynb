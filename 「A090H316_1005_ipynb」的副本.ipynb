{
  "nbformat": 4,
  "nbformat_minor": 0,
  "metadata": {
    "colab": {
      "provenance": [],
      "collapsed_sections": [],
      "include_colab_link": true
    },
    "kernelspec": {
      "name": "python3",
      "display_name": "Python 3"
    },
    "language_info": {
      "name": "python"
    }
  },
  "cells": [
    {
      "cell_type": "markdown",
      "metadata": {
        "id": "view-in-github",
        "colab_type": "text"
      },
      "source": [
        "<a href=\"https://colab.research.google.com/github/A090H316/Security2022/blob/main/%E3%80%8CA090H316_1005_ipynb%E3%80%8D%E7%9A%84%E5%89%AF%E6%9C%AC.ipynb\" target=\"_parent\"><img src=\"https://colab.research.google.com/assets/colab-badge.svg\" alt=\"Open In Colab\"/></a>"
      ]
    },
    {
      "cell_type": "markdown",
      "source": [
        "# HASH 雜湊函數\n",
        "A090H316 鄭欽宇\n",
        "- md5\n",
        "- sha1\n",
        "\n",
        "\n",
        "\n",
        "- linux指令\n",
        "- md5sum\n",
        "- Colab使用方式 : !md5sum 檔案名稱\n",
        "\n",
        "一.雜湊函式又稱雜湊演算法，\n",
        "是一種從任何一種資料中建立小的數字「指紋」的方法。\n",
        "雜湊函式把訊息或資料壓縮成摘要，使得資料量變小，將資料的格式固定下來。\n",
        "雜湊演算法也被用來加密存在資料庫中的密碼（password）字串\n",
        "由於雜湊演算法所計算出來的雜湊值（Hash Value）\n",
        "具有不可逆（無法逆向演算回原本的數值）的性質，因此可有效的保護密碼."
      ],
      "metadata": {
        "id": "Y82fcaiA4Bhq"
      }
    },
    {
      "cell_type": "code",
      "execution_count": null,
      "metadata": {
        "colab": {
          "base_uri": "https://localhost:8080/"
        },
        "id": "X1ckxy5r3PBj",
        "outputId": "45f80379-87d1-4ff6-f4dd-456571cedfdd"
      },
      "outputs": [
        {
          "output_type": "stream",
          "name": "stdout",
          "text": [
            "Usage: md5sum [OPTION]... [FILE]...\n",
            "Print or check MD5 (128-bit) checksums.\n",
            "\n",
            "With no FILE, or when FILE is -, read standard input.\n",
            "\n",
            "  -b, --binary         read in binary mode\n",
            "  -c, --check          read MD5 sums from the FILEs and check them\n",
            "      --tag            create a BSD-style checksum\n",
            "  -t, --text           read in text mode (default)\n",
            "\n",
            "The following five options are useful only when verifying checksums:\n",
            "      --ignore-missing  don't fail or report status for missing files\n",
            "      --quiet          don't print OK for each successfully verified file\n",
            "      --status         don't output anything, status code shows success\n",
            "      --strict         exit non-zero for improperly formatted checksum lines\n",
            "  -w, --warn           warn about improperly formatted checksum lines\n",
            "\n",
            "      --help     display this help and exit\n",
            "      --version  output version information and exit\n",
            "\n",
            "The sums are computed as described in RFC 1321.  When checking, the input\n",
            "should be a former output of this program.  The default mode is to print a\n",
            "line with checksum, a space, a character indicating input mode ('*' for binary,\n",
            "' ' for text or where binary is insignificant), and name for each FILE.\n",
            "\n",
            "GNU coreutils online help: <http://www.gnu.org/software/coreutils/>\n",
            "Full documentation at: <http://www.gnu.org/software/coreutils/md5sum>\n",
            "or available locally via: info '(coreutils) md5sum invocation'\n"
          ]
        }
      ],
      "source": [
        "!md5sum --help"
      ]
    },
    {
      "cell_type": "code",
      "source": [
        "!echo apple > 1005.txt"
      ],
      "metadata": {
        "id": "DkngeX_W3aFB"
      },
      "execution_count": 1,
      "outputs": []
    },
    {
      "cell_type": "code",
      "source": [
        "!cat 1005.txt"
      ],
      "metadata": {
        "colab": {
          "base_uri": "https://localhost:8080/"
        },
        "id": "fhqQV5Hn3lZK",
        "outputId": "b9946a07-10a7-4ce0-cded-1f79f58094e0"
      },
      "execution_count": 2,
      "outputs": [
        {
          "output_type": "stream",
          "name": "stdout",
          "text": [
            "apple\n"
          ]
        }
      ]
    },
    {
      "cell_type": "code",
      "source": [
        "!md5sum 1005.txt"
      ],
      "metadata": {
        "colab": {
          "base_uri": "https://localhost:8080/"
        },
        "id": "SXdikq8g3rqI",
        "outputId": "e8bd2e6f-6ff0-4bed-ef87-c16359fafdb6"
      },
      "execution_count": 3,
      "outputs": [
        {
          "output_type": "stream",
          "name": "stdout",
          "text": [
            "30c6677b833454ad2df762d3c98d2409  1005.txt\n"
          ]
        }
      ]
    },
    {
      "cell_type": "code",
      "source": [
        "!echo Apple > 1005a.txt"
      ],
      "metadata": {
        "id": "MOQDpj3k3qFC"
      },
      "execution_count": 9,
      "outputs": []
    },
    {
      "cell_type": "code",
      "source": [
        "!cat 1005a.txt"
      ],
      "metadata": {
        "colab": {
          "base_uri": "https://localhost:8080/"
        },
        "id": "R4uYcVkn32Wl",
        "outputId": "3aa15b7e-162b-4d6e-dc5e-118ffaf3b24a"
      },
      "execution_count": 10,
      "outputs": [
        {
          "output_type": "stream",
          "name": "stdout",
          "text": [
            "Apple\n"
          ]
        }
      ]
    },
    {
      "cell_type": "code",
      "source": [
        "!md5sum 1005a.txt"
      ],
      "metadata": {
        "colab": {
          "base_uri": "https://localhost:8080/"
        },
        "id": "prBWuC4O36yx",
        "outputId": "28ca2135-ec4c-4710-bf26-216571930548"
      },
      "execution_count": 11,
      "outputs": [
        {
          "output_type": "stream",
          "name": "stdout",
          "text": [
            "5f3a6f7acd575403d7a716a3cfd41203  1005a.txt\n"
          ]
        }
      ]
    }
  ]
}